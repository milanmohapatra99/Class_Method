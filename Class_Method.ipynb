{
 "cells": [
  {
   "cell_type": "code",
   "execution_count": 1,
   "id": "1ac211fd",
   "metadata": {},
   "outputs": [
    {
     "name": "stdout",
     "output_type": "stream",
     "text": [
      "5000\n",
      "10000\n",
      "5000\n"
     ]
    }
   ],
   "source": [
    "class Employee:\n",
    "    company = \"Toyota\"\n",
    "    salary = 5000\n",
    "    location = \"Delhi\"\n",
    "    def changeSalary(self,sal):\n",
    "        self.salary = sal\n",
    "e  = Employee()\n",
    "print(e.salary)\n",
    "e.changeSalary(10000)\n",
    "print(e.salary)\n",
    "print(Employee.salary)"
   ]
  },
  {
   "cell_type": "code",
   "execution_count": 1,
   "id": "c55ce574",
   "metadata": {},
   "outputs": [
    {
     "name": "stdout",
     "output_type": "stream",
     "text": [
      "5000\n",
      "10000\n",
      "10000\n"
     ]
    }
   ],
   "source": [
    "class Employee:\n",
    "    company = \"Toyota\"\n",
    "    salary = 5000\n",
    "    location = \"Delhi\"\n",
    "    def changeSalary(self,sal):\n",
    "        self.__class__.salary = sal\n",
    "e  = Employee()\n",
    "print(e.salary)\n",
    "e.changeSalary(10000)\n",
    "print(e.salary)\n",
    "print(Employee.salary)"
   ]
  },
  {
   "cell_type": "code",
   "execution_count": 2,
   "id": "c9ddc177",
   "metadata": {},
   "outputs": [
    {
     "name": "stdout",
     "output_type": "stream",
     "text": [
      "5000\n",
      "10000\n",
      "10000\n"
     ]
    }
   ],
   "source": [
    "class Employee:\n",
    "    company = \"Toyota\"\n",
    "    salary = 5000\n",
    "    location = \"Delhi\"\n",
    "    @classmethod\n",
    "    def changeSalary(cls,sal):\n",
    "        cls.salary = sal\n",
    "e  = Employee()\n",
    "print(e.salary)\n",
    "e.changeSalary(10000)\n",
    "print(e.salary)\n",
    "print(Employee.salary)"
   ]
  },
  {
   "cell_type": "code",
   "execution_count": null,
   "id": "2ab9e60c",
   "metadata": {},
   "outputs": [],
   "source": []
  }
 ],
 "metadata": {
  "kernelspec": {
   "display_name": "Python 3 (ipykernel)",
   "language": "python",
   "name": "python3"
  },
  "language_info": {
   "codemirror_mode": {
    "name": "ipython",
    "version": 3
   },
   "file_extension": ".py",
   "mimetype": "text/x-python",
   "name": "python",
   "nbconvert_exporter": "python",
   "pygments_lexer": "ipython3",
   "version": "3.9.7"
  }
 },
 "nbformat": 4,
 "nbformat_minor": 5
}
